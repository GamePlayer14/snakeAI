{
 "cells": [
  {
   "cell_type": "code",
   "execution_count": 2,
   "id": "8cf04c8b-0595-4f17-8b75-60bbcdf3ca1b",
   "metadata": {},
   "outputs": [],
   "source": [
    "from main import run_snake_game"
   ]
  },
  {
   "cell_type": "code",
   "execution_count": null,
   "id": "803d614b-3c44-472f-a92f-0fb88a73d220",
   "metadata": {},
   "outputs": [
    {
     "name": "stderr",
     "output_type": "stream",
     "text": [
      "Exception in thread Thread-5 (headless_loop):\n",
      "Traceback (most recent call last):\n",
      "  File \"C:\\Users\\Tyler\\anaconda3\\Lib\\threading.py\", line 1073, in _bootstrap_inner\n",
      "    self.run()\n",
      "  File \"C:\\Users\\Tyler\\anaconda3\\Lib\\site-packages\\ipykernel\\ipkernel.py\", line 766, in run_closure\n",
      "    _threading_Thread_run(self)\n",
      "  File \"C:\\Users\\Tyler\\anaconda3\\Lib\\threading.py\", line 1010, in run\n",
      "    self._target(*self._args, **self._kwargs)\n",
      "  File \"C:\\Users\\Tyler\\python_code\\Final_Project\\Snake Real\\main.py\", line 43, in headless_loop\n",
      "    sb.update_monitor(generation, best_score, info_label, monitor)\n",
      "  File \"C:\\Users\\Tyler\\python_code\\Final_Project\\Snake Real\\game\\screen_builder.py\", line 46, in update_monitor\n",
      "    root.after(0, update)  # ✅ safely run this on the main thread\n",
      "    ^^^^^^^^^^^^^^^^^^^^^\n",
      "  File \"C:\\Users\\Tyler\\anaconda3\\Lib\\tkinter\\__init__.py\", line 872, in after\n",
      "    name = self._register(callit)\n",
      "           ^^^^^^^^^^^^^^^^^^^^^^\n",
      "  File \"C:\\Users\\Tyler\\anaconda3\\Lib\\tkinter\\__init__.py\", line 1603, in _register\n",
      "    self.tk.createcommand(name, f)\n",
      "RuntimeError: main thread is not in main loop\n"
     ]
    }
   ],
   "source": [
    "run_snake_game(True)"
   ]
  },
  {
   "cell_type": "code",
   "execution_count": null,
   "id": "3d0215c1-06b7-41cd-96cf-d948e5f7f690",
   "metadata": {},
   "outputs": [],
   "source": []
  }
 ],
 "metadata": {
  "kernelspec": {
   "display_name": "LHL_Env",
   "language": "python",
   "name": "lhl_env"
  },
  "language_info": {
   "codemirror_mode": {
    "name": "ipython",
    "version": 3
   },
   "file_extension": ".py",
   "mimetype": "text/x-python",
   "name": "python",
   "nbconvert_exporter": "python",
   "pygments_lexer": "ipython3",
   "version": "3.12.3"
  }
 },
 "nbformat": 4,
 "nbformat_minor": 5
}
